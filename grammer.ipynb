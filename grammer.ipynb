{
 "cells": [
  {
   "cell_type": "code",
   "execution_count": null,
   "metadata": {},
   "outputs": [],
   "source": [
    "#리스트와 반복문\n",
    "num_list = [1,2,3,4,5]\n",
    "\n",
    "#for 문에 list 객체를 넣는 경우\n",
    "#각 요소의 값만을 얻고 싶은 경우, 기존 리스트에 값 변경 불가능\n",
    "for num in num_list :\n",
    "    print(num)\n",
    "    \n",
    "#인덱스를 통해 모든 값을 얻기\n",
    "#기존 리스트에 값 변경 가능\n",
    "for i in range(len(num_list)) :\n",
    "    if i % 2 == 0 :\n",
    "        num_list[i] += 1\n",
    "    print(num_list[i])\n",
    "    \n",
    "#인덱스 및 값을 동시에 얻기\n",
    "#기존 리스트에 값 변경 가능\n",
    "for i, num in enumerate(num_list) :\n",
    "    print(i, num, num_list[i])\n",
    "    \n",
    "#여러개의 리스트를 동시에 조회할 때\n",
    "kr_scores = [10,20,30,50]\n",
    "math_scores = [20,40,50,70]\n",
    "en_scores = [40,20,30,50]\n",
    "for student_scores in zip(kr_scores, math_scores, en_scores) :\n",
    "    print(student_scores)\n",
    "    print(f'각 학생의 평균 : {sum(student_scores)/len(student_scores)}')\n",
    "    \n",
    "#2차원 리스트의 같은 칼럼 요소를 동시에 조회할때도 사용\n",
    "scores = [[10,20,30], [40,50,39], [20,40,50]] #[국어, 영어, 수학]\n",
    "for score in zip(*scores) :\n",
    "    print(score)\n",
    "    print(f'각 과목의 평균 : {sum(score)/len(score)}')"
   ]
  },
  {
   "cell_type": "code",
   "execution_count": null,
   "metadata": {},
   "outputs": [],
   "source": [
    "# 딕셔너리와 반복문\n",
    "fruit_dict = {'사과':1, '포도':2, '딸기':6}\n",
    "\n",
    "#딕셔너리의 키와 밸류를 동시에 얻음\n",
    "#키를 통해 값 변경 가능\n",
    "for k, v in fruit_dict.items() :\n",
    "    if k == '사과' :\n",
    "        fruit_dict[k] = 5\n",
    "    print(k, v)\n",
    "\n",
    "#키를 통해 값 참조 가능 및 변경 가능\n",
    "for k in fruit_dict :\n",
    "    if k == '사과' :\n",
    "        fruit_dict[k] = 3\n",
    "    print(k, fruit_dict[k])\n",
    "\n",
    "\n",
    "#딕셔너리의 값만 조회, 딕셔너리 수정 불가능\n",
    "#모든 값들의 평균, 합 등 산술적 연산시 활용\n",
    "for v in fruit_dict.values() :\n",
    "    print(v)"
   ]
  },
  {
   "cell_type": "code",
   "execution_count": null,
   "metadata": {},
   "outputs": [],
   "source": [
    "#셋과 반복문\n",
    "fruit_set = {'사과','포도','딸기'}\n",
    "#셋은 값의 순서가 없기 때문에 어떤 요소가 먼저 조회 될지는 알 수 없음\n",
    "#셋 내의 값 조회\n",
    "for fruit in fruit_set :\n",
    "    print(fruit)"
   ]
  }
 ],
 "metadata": {
  "language_info": {
   "name": "python"
  }
 },
 "nbformat": 4,
 "nbformat_minor": 2
}
