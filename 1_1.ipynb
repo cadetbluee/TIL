{
 "cells": [
  {
   "cell_type": "code",
   "execution_count": null,
   "metadata": {},
   "outputs": [],
   "source": [
    "#1일차라 거의 실습제출하는 방법에 대해서만 실습\n",
    "num=1\n",
    "type(num) #type이 뭔지 뜬다\n",
    "print(f'{num}') #앞에 f를 쓴 후 중괄호를 이용해 변수나 식을 안에 넣을 수 있다\n",
    "letter='I was a young student at that time'\n",
    "i=letter[0:1] #인덱싱하는 방법\n",
    "was_backward=letter[2:5]\n",
    "was_backward=was_backward[::-1] #거꾸로 쓰는 방법"
   ]
  },
  {
   "cell_type": "code",
   "execution_count": null,
   "metadata": {},
   "outputs": [],
   "source": [
    "#2일\n",
    "#연산자쓰는 법\n"
   ]
  },
  {
   "cell_type": "code",
   "execution_count": 1,
   "metadata": {},
   "outputs": [
    {
     "name": "stdout",
     "output_type": "stream",
     "text": [
      "[{'a': 1, 'b': 'a', 'c': True}, {'a': 2, 'b': 'b', 'c': False}, {'a': 3, 'b': 'c', 'c': False}]\n"
     ]
    }
   ],
   "source": [
    "#3일차\n",
    "#함수에 대해 배움\n",
    "a=[1,2,3]\n",
    "b=['a','b','c']\n",
    "c=[True,False,False]\n",
    "def func(a,b,c):\n",
    "    dic={'a':a,'b':b,'c':c}\n",
    "    return dic\n",
    "new_func=list(map(func,a,b,c))\n",
    "print(new_func)\n",
    "\n",
    "#for문 대신에 함수와 map함수를 이용할 수 있다"
   ]
  },
  {
   "cell_type": "code",
   "execution_count": null,
   "metadata": {},
   "outputs": [],
   "source": [
    "#4일차\n",
    "#함수 2일차\n"
   ]
  },
  {
   "cell_type": "code",
   "execution_count": null,
   "metadata": {},
   "outputs": [],
   "source": [
    "#5일차\n",
    "#프로젝트 1주차\n"
   ]
  },
  {
   "cell_type": "code",
   "execution_count": 4,
   "metadata": {},
   "outputs": [
    {
     "name": "stdout",
     "output_type": "stream",
     "text": [
      "[4, 5, 6, [1, 2, 3], 1, 2, 3]\n"
     ]
    },
    {
     "data": {
      "text/plain": [
       "0"
      ]
     },
     "execution_count": 4,
     "metadata": {},
     "output_type": "execute_result"
    }
   ],
   "source": [
    "#6일차\n",
    "#method\n",
    "x,y=range(5),range(1,5)\n",
    "result=sum(map(lambda x,y:x+y,x,y))\n",
    "#sum함수 쓰면 map함수 안풀어줘도 결과 나옴\n",
    "my_list=[3,4,5,6,7]\n",
    "my_list.remove(7)\n",
    "my_list.pop(0)\n",
    "my_list.append([1,2,3])\n",
    "my_list.extend([1,2,3])\n",
    "print(my_list)\n",
    "#값을 알때는 remove, 모를때는 pop\n",
    "my_str='hello'\n",
    "my_str.find('h')"
   ]
  }
 ],
 "metadata": {
  "kernelspec": {
   "display_name": "Python 3",
   "language": "python",
   "name": "python3"
  },
  "language_info": {
   "codemirror_mode": {
    "name": "ipython",
    "version": 3
   },
   "file_extension": ".py",
   "mimetype": "text/x-python",
   "name": "python",
   "nbconvert_exporter": "python",
   "pygments_lexer": "ipython3",
   "version": "3.9.13"
  }
 },
 "nbformat": 4,
 "nbformat_minor": 2
}
